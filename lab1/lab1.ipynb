{
 "cells": [
  {
   "cell_type": "markdown",
   "id": "stone-circus",
   "metadata": {},
   "source": [
    "MSO practice 1\n"
   ]
  },
  {
   "cell_type": "raw",
   "id": "ranging-advocacy",
   "metadata": {},
   "source": [
    "dataset: https://www.kaggle.com/sakshigoyal7/credit-card-customers"
   ]
  },
  {
   "cell_type": "code",
   "execution_count": 10,
   "id": "circular-cabin",
   "metadata": {},
   "outputs": [],
   "source": [
    "import matplotlib.pyplot as plt\n",
    "import seaborn as sns\n",
    "import pandas as pd\n",
    "import numpy as np\n",
    "\n",
    "%matplotlib inline"
   ]
  },
  {
   "cell_type": "code",
   "execution_count": 11,
   "id": "broadband-discrimination",
   "metadata": {},
   "outputs": [],
   "source": [
    "data = pd.read_csv('Downloads/MSO lab1/BankChurners.csv', delimiter=',')"
   ]
  },
  {
   "cell_type": "code",
   "execution_count": 13,
   "id": "excellent-semester",
   "metadata": {},
   "outputs": [
    {
     "data": {
      "text/html": [
       "<div>\n",
       "<style scoped>\n",
       "    .dataframe tbody tr th:only-of-type {\n",
       "        vertical-align: middle;\n",
       "    }\n",
       "\n",
       "    .dataframe tbody tr th {\n",
       "        vertical-align: top;\n",
       "    }\n",
       "\n",
       "    .dataframe thead th {\n",
       "        text-align: right;\n",
       "    }\n",
       "</style>\n",
       "<table border=\"1\" class=\"dataframe\">\n",
       "  <thead>\n",
       "    <tr style=\"text-align: right;\">\n",
       "      <th></th>\n",
       "      <th>CLIENTNUM</th>\n",
       "      <th>Attrition_Flag</th>\n",
       "      <th>Customer_Age</th>\n",
       "      <th>Gender</th>\n",
       "      <th>Dependent_count</th>\n",
       "      <th>Education_Level</th>\n",
       "      <th>Marital_Status</th>\n",
       "      <th>Income_Category</th>\n",
       "      <th>Card_Category</th>\n",
       "      <th>Months_on_book</th>\n",
       "      <th>...</th>\n",
       "      <th>Credit_Limit</th>\n",
       "      <th>Total_Revolving_Bal</th>\n",
       "      <th>Avg_Open_To_Buy</th>\n",
       "      <th>Total_Amt_Chng_Q4_Q1</th>\n",
       "      <th>Total_Trans_Amt</th>\n",
       "      <th>Total_Trans_Ct</th>\n",
       "      <th>Total_Ct_Chng_Q4_Q1</th>\n",
       "      <th>Avg_Utilization_Ratio</th>\n",
       "      <th>Naive_Bayes_Classifier_Attrition_Flag_Card_Category_Contacts_Count_12_mon_Dependent_count_Education_Level_Months_Inactive_12_mon_1</th>\n",
       "      <th>Naive_Bayes_Classifier_Attrition_Flag_Card_Category_Contacts_Count_12_mon_Dependent_count_Education_Level_Months_Inactive_12_mon_2</th>\n",
       "    </tr>\n",
       "  </thead>\n",
       "  <tbody>\n",
       "    <tr>\n",
       "      <th>0</th>\n",
       "      <td>768805383</td>\n",
       "      <td>Existing Customer</td>\n",
       "      <td>45</td>\n",
       "      <td>M</td>\n",
       "      <td>3</td>\n",
       "      <td>High School</td>\n",
       "      <td>Married</td>\n",
       "      <td>$60K - $80K</td>\n",
       "      <td>Blue</td>\n",
       "      <td>39</td>\n",
       "      <td>...</td>\n",
       "      <td>12691.0</td>\n",
       "      <td>777</td>\n",
       "      <td>11914.0</td>\n",
       "      <td>1.335</td>\n",
       "      <td>1144</td>\n",
       "      <td>42</td>\n",
       "      <td>1.625</td>\n",
       "      <td>0.061</td>\n",
       "      <td>0.000093</td>\n",
       "      <td>0.99991</td>\n",
       "    </tr>\n",
       "    <tr>\n",
       "      <th>1</th>\n",
       "      <td>818770008</td>\n",
       "      <td>Existing Customer</td>\n",
       "      <td>49</td>\n",
       "      <td>F</td>\n",
       "      <td>5</td>\n",
       "      <td>Graduate</td>\n",
       "      <td>Single</td>\n",
       "      <td>Less than $40K</td>\n",
       "      <td>Blue</td>\n",
       "      <td>44</td>\n",
       "      <td>...</td>\n",
       "      <td>8256.0</td>\n",
       "      <td>864</td>\n",
       "      <td>7392.0</td>\n",
       "      <td>1.541</td>\n",
       "      <td>1291</td>\n",
       "      <td>33</td>\n",
       "      <td>3.714</td>\n",
       "      <td>0.105</td>\n",
       "      <td>0.000057</td>\n",
       "      <td>0.99994</td>\n",
       "    </tr>\n",
       "    <tr>\n",
       "      <th>2</th>\n",
       "      <td>713982108</td>\n",
       "      <td>Existing Customer</td>\n",
       "      <td>51</td>\n",
       "      <td>M</td>\n",
       "      <td>3</td>\n",
       "      <td>Graduate</td>\n",
       "      <td>Married</td>\n",
       "      <td>$80K - $120K</td>\n",
       "      <td>Blue</td>\n",
       "      <td>36</td>\n",
       "      <td>...</td>\n",
       "      <td>3418.0</td>\n",
       "      <td>0</td>\n",
       "      <td>3418.0</td>\n",
       "      <td>2.594</td>\n",
       "      <td>1887</td>\n",
       "      <td>20</td>\n",
       "      <td>2.333</td>\n",
       "      <td>0.000</td>\n",
       "      <td>0.000021</td>\n",
       "      <td>0.99998</td>\n",
       "    </tr>\n",
       "    <tr>\n",
       "      <th>3</th>\n",
       "      <td>769911858</td>\n",
       "      <td>Existing Customer</td>\n",
       "      <td>40</td>\n",
       "      <td>F</td>\n",
       "      <td>4</td>\n",
       "      <td>High School</td>\n",
       "      <td>Unknown</td>\n",
       "      <td>Less than $40K</td>\n",
       "      <td>Blue</td>\n",
       "      <td>34</td>\n",
       "      <td>...</td>\n",
       "      <td>3313.0</td>\n",
       "      <td>2517</td>\n",
       "      <td>796.0</td>\n",
       "      <td>1.405</td>\n",
       "      <td>1171</td>\n",
       "      <td>20</td>\n",
       "      <td>2.333</td>\n",
       "      <td>0.760</td>\n",
       "      <td>0.000134</td>\n",
       "      <td>0.99987</td>\n",
       "    </tr>\n",
       "    <tr>\n",
       "      <th>4</th>\n",
       "      <td>709106358</td>\n",
       "      <td>Existing Customer</td>\n",
       "      <td>40</td>\n",
       "      <td>M</td>\n",
       "      <td>3</td>\n",
       "      <td>Uneducated</td>\n",
       "      <td>Married</td>\n",
       "      <td>$60K - $80K</td>\n",
       "      <td>Blue</td>\n",
       "      <td>21</td>\n",
       "      <td>...</td>\n",
       "      <td>4716.0</td>\n",
       "      <td>0</td>\n",
       "      <td>4716.0</td>\n",
       "      <td>2.175</td>\n",
       "      <td>816</td>\n",
       "      <td>28</td>\n",
       "      <td>2.500</td>\n",
       "      <td>0.000</td>\n",
       "      <td>0.000022</td>\n",
       "      <td>0.99998</td>\n",
       "    </tr>\n",
       "  </tbody>\n",
       "</table>\n",
       "<p>5 rows × 23 columns</p>\n",
       "</div>"
      ],
      "text/plain": [
       "   CLIENTNUM     Attrition_Flag  Customer_Age Gender  Dependent_count  \\\n",
       "0  768805383  Existing Customer            45      M                3   \n",
       "1  818770008  Existing Customer            49      F                5   \n",
       "2  713982108  Existing Customer            51      M                3   \n",
       "3  769911858  Existing Customer            40      F                4   \n",
       "4  709106358  Existing Customer            40      M                3   \n",
       "\n",
       "  Education_Level Marital_Status Income_Category Card_Category  \\\n",
       "0     High School        Married     $60K - $80K          Blue   \n",
       "1        Graduate         Single  Less than $40K          Blue   \n",
       "2        Graduate        Married    $80K - $120K          Blue   \n",
       "3     High School        Unknown  Less than $40K          Blue   \n",
       "4      Uneducated        Married     $60K - $80K          Blue   \n",
       "\n",
       "   Months_on_book  ...  Credit_Limit  Total_Revolving_Bal  Avg_Open_To_Buy  \\\n",
       "0              39  ...       12691.0                  777          11914.0   \n",
       "1              44  ...        8256.0                  864           7392.0   \n",
       "2              36  ...        3418.0                    0           3418.0   \n",
       "3              34  ...        3313.0                 2517            796.0   \n",
       "4              21  ...        4716.0                    0           4716.0   \n",
       "\n",
       "   Total_Amt_Chng_Q4_Q1  Total_Trans_Amt  Total_Trans_Ct  Total_Ct_Chng_Q4_Q1  \\\n",
       "0                 1.335             1144              42                1.625   \n",
       "1                 1.541             1291              33                3.714   \n",
       "2                 2.594             1887              20                2.333   \n",
       "3                 1.405             1171              20                2.333   \n",
       "4                 2.175              816              28                2.500   \n",
       "\n",
       "   Avg_Utilization_Ratio  \\\n",
       "0                  0.061   \n",
       "1                  0.105   \n",
       "2                  0.000   \n",
       "3                  0.760   \n",
       "4                  0.000   \n",
       "\n",
       "   Naive_Bayes_Classifier_Attrition_Flag_Card_Category_Contacts_Count_12_mon_Dependent_count_Education_Level_Months_Inactive_12_mon_1  \\\n",
       "0                                           0.000093                                                                                    \n",
       "1                                           0.000057                                                                                    \n",
       "2                                           0.000021                                                                                    \n",
       "3                                           0.000134                                                                                    \n",
       "4                                           0.000022                                                                                    \n",
       "\n",
       "   Naive_Bayes_Classifier_Attrition_Flag_Card_Category_Contacts_Count_12_mon_Dependent_count_Education_Level_Months_Inactive_12_mon_2  \n",
       "0                                            0.99991                                                                                   \n",
       "1                                            0.99994                                                                                   \n",
       "2                                            0.99998                                                                                   \n",
       "3                                            0.99987                                                                                   \n",
       "4                                            0.99998                                                                                   \n",
       "\n",
       "[5 rows x 23 columns]"
      ]
     },
     "execution_count": 13,
     "metadata": {},
     "output_type": "execute_result"
    }
   ],
   "source": [
    "data.head()"
   ]
  },
  {
   "cell_type": "code",
   "execution_count": 22,
   "id": "organized-belize",
   "metadata": {},
   "outputs": [
    {
     "name": "stdout",
     "output_type": "stream",
     "text": [
      "<class 'pandas.core.frame.DataFrame'>\n",
      "RangeIndex: 10127 entries, 0 to 10126\n",
      "Data columns (total 21 columns):\n",
      "CLIENTNUM                   10127 non-null int64\n",
      "Attrition_Flag              10127 non-null object\n",
      "Customer_Age                10127 non-null int64\n",
      "Gender                      10127 non-null object\n",
      "Dependent_count             10127 non-null int64\n",
      "Education_Level             10127 non-null object\n",
      "Marital_Status              10127 non-null object\n",
      "Income_Category             10127 non-null object\n",
      "Card_Category               10127 non-null object\n",
      "Months_on_book              10127 non-null int64\n",
      "Total_Relationship_Count    10127 non-null int64\n",
      "Months_Inactive_12_mon      10127 non-null int64\n",
      "Contacts_Count_12_mon       10127 non-null int64\n",
      "Credit_Limit                10127 non-null float64\n",
      "Total_Revolving_Bal         10127 non-null int64\n",
      "Avg_Open_To_Buy             10127 non-null float64\n",
      "Total_Amt_Chng_Q4_Q1        10127 non-null float64\n",
      "Total_Trans_Amt             10127 non-null int64\n",
      "Total_Trans_Ct              10127 non-null int64\n",
      "Total_Ct_Chng_Q4_Q1         10127 non-null float64\n",
      "Avg_Utilization_Ratio       10127 non-null float64\n",
      "dtypes: float64(5), int64(10), object(6)\n",
      "memory usage: 1.4+ MB\n"
     ]
    }
   ],
   "source": [
    "data.info()"
   ]
  },
  {
   "cell_type": "raw",
   "id": "organic-france",
   "metadata": {},
   "source": [
    "Проверка на не нулевые элементы"
   ]
  },
  {
   "cell_type": "code",
   "execution_count": 23,
   "id": "associate-french",
   "metadata": {},
   "outputs": [
    {
     "data": {
      "text/plain": [
       "False"
      ]
     },
     "execution_count": 23,
     "metadata": {},
     "output_type": "execute_result"
    }
   ],
   "source": [
    "data.isnull().any().any()"
   ]
  },
  {
   "cell_type": "raw",
   "id": "greek-block",
   "metadata": {},
   "source": [
    "Поиск всех уникальных значений уровня образования"
   ]
  },
  {
   "cell_type": "code",
   "execution_count": 78,
   "id": "instrumental-plain",
   "metadata": {},
   "outputs": [
    {
     "data": {
      "text/plain": [
       "array(['High School', 'Graduate', 'Uneducated', 'Unknown', 'College',\n",
       "       'Post-Graduate', 'Doctorate'], dtype=object)"
      ]
     },
     "execution_count": 78,
     "metadata": {},
     "output_type": "execute_result"
    }
   ],
   "source": [
    "data['Education_Level'].unique()"
   ]
  },
  {
   "cell_type": "raw",
   "id": "communist-fancy",
   "metadata": {},
   "source": [
    "Поиск количества позиций датасета по уровню образований"
   ]
  },
  {
   "cell_type": "code",
   "execution_count": 29,
   "id": "bearing-resident",
   "metadata": {},
   "outputs": [
    {
     "data": {
      "text/plain": [
       "Graduate         3128\n",
       "High School      2013\n",
       "Unknown          1519\n",
       "Uneducated       1487\n",
       "College          1013\n",
       "Post-Graduate     516\n",
       "Doctorate         451\n",
       "Name: Education_Level, dtype: int64"
      ]
     },
     "execution_count": 29,
     "metadata": {},
     "output_type": "execute_result"
    }
   ],
   "source": [
    "data['Education_Level'].value_counts()"
   ]
  },
  {
   "cell_type": "raw",
   "id": "timely-retreat",
   "metadata": {},
   "source": [
    "Создание маски необразованных мужчин, сортировка выборки данных по этомй маске по колонке уровня дохода. "
   ]
  },
  {
   "cell_type": "code",
   "execution_count": 73,
   "id": "medical-consortium",
   "metadata": {},
   "outputs": [],
   "source": [
    "mask = (data['Education_Level'] == 'Uneducated') & (data['Customer_Age'] > 20) & (data['Gender'] == 'M')\n",
    "uneducatedMen = data[mask]"
   ]
  },
  {
   "cell_type": "code",
   "execution_count": 74,
   "id": "confused-evaluation",
   "metadata": {},
   "outputs": [],
   "source": [
    "unEdGroupByEncome = uneducatedMen.groupby('Income_Category')"
   ]
  },
  {
   "cell_type": "code",
   "execution_count": 75,
   "id": "earlier-admission",
   "metadata": {},
   "outputs": [
    {
     "data": {
      "text/html": [
       "<div>\n",
       "<style scoped>\n",
       "    .dataframe tbody tr th:only-of-type {\n",
       "        vertical-align: middle;\n",
       "    }\n",
       "\n",
       "    .dataframe tbody tr th {\n",
       "        vertical-align: top;\n",
       "    }\n",
       "\n",
       "    .dataframe thead th {\n",
       "        text-align: right;\n",
       "    }\n",
       "</style>\n",
       "<table border=\"1\" class=\"dataframe\">\n",
       "  <thead>\n",
       "    <tr style=\"text-align: right;\">\n",
       "      <th></th>\n",
       "      <th>CLIENTNUM</th>\n",
       "      <th>Customer_Age</th>\n",
       "      <th>Dependent_count</th>\n",
       "      <th>Months_on_book</th>\n",
       "      <th>Total_Relationship_Count</th>\n",
       "      <th>Months_Inactive_12_mon</th>\n",
       "      <th>Contacts_Count_12_mon</th>\n",
       "      <th>Credit_Limit</th>\n",
       "      <th>Total_Revolving_Bal</th>\n",
       "      <th>Avg_Open_To_Buy</th>\n",
       "      <th>Total_Amt_Chng_Q4_Q1</th>\n",
       "      <th>Total_Trans_Amt</th>\n",
       "      <th>Total_Trans_Ct</th>\n",
       "      <th>Total_Ct_Chng_Q4_Q1</th>\n",
       "      <th>Avg_Utilization_Ratio</th>\n",
       "    </tr>\n",
       "    <tr>\n",
       "      <th>Income_Category</th>\n",
       "      <th></th>\n",
       "      <th></th>\n",
       "      <th></th>\n",
       "      <th></th>\n",
       "      <th></th>\n",
       "      <th></th>\n",
       "      <th></th>\n",
       "      <th></th>\n",
       "      <th></th>\n",
       "      <th></th>\n",
       "      <th></th>\n",
       "      <th></th>\n",
       "      <th></th>\n",
       "      <th></th>\n",
       "      <th></th>\n",
       "    </tr>\n",
       "  </thead>\n",
       "  <tbody>\n",
       "    <tr>\n",
       "      <th>$120K +</th>\n",
       "      <td>7.391797e+08</td>\n",
       "      <td>47.285714</td>\n",
       "      <td>2.327731</td>\n",
       "      <td>35.806723</td>\n",
       "      <td>3.731092</td>\n",
       "      <td>2.310924</td>\n",
       "      <td>2.672269</td>\n",
       "      <td>20042.268908</td>\n",
       "      <td>1250.705882</td>\n",
       "      <td>18791.563025</td>\n",
       "      <td>0.719109</td>\n",
       "      <td>5168.084034</td>\n",
       "      <td>66.487395</td>\n",
       "      <td>0.665555</td>\n",
       "      <td>0.121647</td>\n",
       "    </tr>\n",
       "    <tr>\n",
       "      <th>$40K - $60K</th>\n",
       "      <td>7.412727e+08</td>\n",
       "      <td>46.008621</td>\n",
       "      <td>2.172414</td>\n",
       "      <td>36.137931</td>\n",
       "      <td>3.672414</td>\n",
       "      <td>2.336207</td>\n",
       "      <td>2.646552</td>\n",
       "      <td>6237.632759</td>\n",
       "      <td>1159.689655</td>\n",
       "      <td>5077.943103</td>\n",
       "      <td>0.762672</td>\n",
       "      <td>4451.948276</td>\n",
       "      <td>62.525862</td>\n",
       "      <td>0.706422</td>\n",
       "      <td>0.272914</td>\n",
       "    </tr>\n",
       "    <tr>\n",
       "      <th>$60K - $80K</th>\n",
       "      <td>7.375025e+08</td>\n",
       "      <td>46.502564</td>\n",
       "      <td>2.297436</td>\n",
       "      <td>35.630769</td>\n",
       "      <td>3.815385</td>\n",
       "      <td>2.317949</td>\n",
       "      <td>2.389744</td>\n",
       "      <td>11048.390769</td>\n",
       "      <td>1084.523077</td>\n",
       "      <td>9963.867692</td>\n",
       "      <td>0.793369</td>\n",
       "      <td>4398.528205</td>\n",
       "      <td>63.835897</td>\n",
       "      <td>0.743282</td>\n",
       "      <td>0.185744</td>\n",
       "    </tr>\n",
       "    <tr>\n",
       "      <th>$80K - $120K</th>\n",
       "      <td>7.388845e+08</td>\n",
       "      <td>46.617512</td>\n",
       "      <td>2.585253</td>\n",
       "      <td>36.184332</td>\n",
       "      <td>3.806452</td>\n",
       "      <td>2.345622</td>\n",
       "      <td>2.506912</td>\n",
       "      <td>16709.372811</td>\n",
       "      <td>1249.576037</td>\n",
       "      <td>15459.796774</td>\n",
       "      <td>0.793747</td>\n",
       "      <td>4771.866359</td>\n",
       "      <td>64.884793</td>\n",
       "      <td>0.710664</td>\n",
       "      <td>0.156558</td>\n",
       "    </tr>\n",
       "    <tr>\n",
       "      <th>Less than $40K</th>\n",
       "      <td>7.369038e+08</td>\n",
       "      <td>46.162162</td>\n",
       "      <td>1.540541</td>\n",
       "      <td>37.054054</td>\n",
       "      <td>3.783784</td>\n",
       "      <td>2.540541</td>\n",
       "      <td>2.810811</td>\n",
       "      <td>4738.394595</td>\n",
       "      <td>1364.891892</td>\n",
       "      <td>3373.502703</td>\n",
       "      <td>0.719676</td>\n",
       "      <td>4019.270270</td>\n",
       "      <td>59.513514</td>\n",
       "      <td>0.613216</td>\n",
       "      <td>0.376784</td>\n",
       "    </tr>\n",
       "    <tr>\n",
       "      <th>Unknown</th>\n",
       "      <td>7.264502e+08</td>\n",
       "      <td>44.000000</td>\n",
       "      <td>1.428571</td>\n",
       "      <td>36.142857</td>\n",
       "      <td>3.857143</td>\n",
       "      <td>2.857143</td>\n",
       "      <td>2.714286</td>\n",
       "      <td>9955.571429</td>\n",
       "      <td>910.571429</td>\n",
       "      <td>9045.000000</td>\n",
       "      <td>0.849857</td>\n",
       "      <td>2535.857143</td>\n",
       "      <td>53.000000</td>\n",
       "      <td>0.844714</td>\n",
       "      <td>0.137571</td>\n",
       "    </tr>\n",
       "  </tbody>\n",
       "</table>\n",
       "</div>"
      ],
      "text/plain": [
       "                    CLIENTNUM  Customer_Age  Dependent_count  Months_on_book  \\\n",
       "Income_Category                                                                \n",
       "$120K +          7.391797e+08     47.285714         2.327731       35.806723   \n",
       "$40K - $60K      7.412727e+08     46.008621         2.172414       36.137931   \n",
       "$60K - $80K      7.375025e+08     46.502564         2.297436       35.630769   \n",
       "$80K - $120K     7.388845e+08     46.617512         2.585253       36.184332   \n",
       "Less than $40K   7.369038e+08     46.162162         1.540541       37.054054   \n",
       "Unknown          7.264502e+08     44.000000         1.428571       36.142857   \n",
       "\n",
       "                 Total_Relationship_Count  Months_Inactive_12_mon  \\\n",
       "Income_Category                                                     \n",
       "$120K +                          3.731092                2.310924   \n",
       "$40K - $60K                      3.672414                2.336207   \n",
       "$60K - $80K                      3.815385                2.317949   \n",
       "$80K - $120K                     3.806452                2.345622   \n",
       "Less than $40K                   3.783784                2.540541   \n",
       "Unknown                          3.857143                2.857143   \n",
       "\n",
       "                 Contacts_Count_12_mon  Credit_Limit  Total_Revolving_Bal  \\\n",
       "Income_Category                                                             \n",
       "$120K +                       2.672269  20042.268908          1250.705882   \n",
       "$40K - $60K                   2.646552   6237.632759          1159.689655   \n",
       "$60K - $80K                   2.389744  11048.390769          1084.523077   \n",
       "$80K - $120K                  2.506912  16709.372811          1249.576037   \n",
       "Less than $40K                2.810811   4738.394595          1364.891892   \n",
       "Unknown                       2.714286   9955.571429           910.571429   \n",
       "\n",
       "                 Avg_Open_To_Buy  Total_Amt_Chng_Q4_Q1  Total_Trans_Amt  \\\n",
       "Income_Category                                                           \n",
       "$120K +             18791.563025              0.719109      5168.084034   \n",
       "$40K - $60K          5077.943103              0.762672      4451.948276   \n",
       "$60K - $80K          9963.867692              0.793369      4398.528205   \n",
       "$80K - $120K        15459.796774              0.793747      4771.866359   \n",
       "Less than $40K       3373.502703              0.719676      4019.270270   \n",
       "Unknown              9045.000000              0.849857      2535.857143   \n",
       "\n",
       "                 Total_Trans_Ct  Total_Ct_Chng_Q4_Q1  Avg_Utilization_Ratio  \n",
       "Income_Category                                                              \n",
       "$120K +               66.487395             0.665555               0.121647  \n",
       "$40K - $60K           62.525862             0.706422               0.272914  \n",
       "$60K - $80K           63.835897             0.743282               0.185744  \n",
       "$80K - $120K          64.884793             0.710664               0.156558  \n",
       "Less than $40K        59.513514             0.613216               0.376784  \n",
       "Unknown               53.000000             0.844714               0.137571  "
      ]
     },
     "execution_count": 75,
     "metadata": {},
     "output_type": "execute_result"
    }
   ],
   "source": [
    "unEdGroupByEncome.mean()"
   ]
  },
  {
   "cell_type": "raw",
   "id": "abroad-image",
   "metadata": {},
   "source": [
    "Анализ зависимости уровня образования и благосостояния."
   ]
  },
  {
   "cell_type": "code",
   "execution_count": 77,
   "id": "julian-limitation",
   "metadata": {},
   "outputs": [
    {
     "data": {
      "text/plain": [
       "$80K - $120K      217\n",
       "$60K - $80K       195\n",
       "$120K +           119\n",
       "$40K - $60K       116\n",
       "Less than $40K     37\n",
       "Unknown             7\n",
       "Name: Income_Category, dtype: int64"
      ]
     },
     "execution_count": 77,
     "metadata": {},
     "output_type": "execute_result"
    }
   ],
   "source": [
    "uneducatedMen.Income_Category.value_counts()"
   ]
  },
  {
   "cell_type": "code",
   "execution_count": 79,
   "id": "magnetic-joining",
   "metadata": {},
   "outputs": [
    {
     "data": {
      "text/plain": [
       "$80K - $120K      81\n",
       "$60K - $80K       77\n",
       "$40K - $60K       50\n",
       "$120K +           30\n",
       "Less than $40K    10\n",
       "Unknown            5\n",
       "Name: Income_Category, dtype: int64"
      ]
     },
     "execution_count": 79,
     "metadata": {},
     "output_type": "execute_result"
    }
   ],
   "source": [
    "maskEdu = (data['Education_Level'] == 'Post-Graduate') & (data['Customer_Age'] > 20) & (data['Gender'] == 'M')\n",
    "educatedMen = data[maskEdu]\n",
    "educatedMen.Income_Category.value_counts()"
   ]
  },
  {
   "cell_type": "code",
   "execution_count": 82,
   "id": "imperial-colombia",
   "metadata": {},
   "outputs": [
    {
     "data": {
      "text/plain": [
       "Blue        222\n",
       "Silver       25\n",
       "Gold          4\n",
       "Platinum      2\n",
       "Name: Card_Category, dtype: int64"
      ]
     },
     "execution_count": 82,
     "metadata": {},
     "output_type": "execute_result"
    }
   ],
   "source": [
    "educatedMen.Card_Category.value_counts()"
   ]
  },
  {
   "cell_type": "code",
   "execution_count": 145,
   "id": "still-nature",
   "metadata": {},
   "outputs": [
    {
     "data": {
      "text/plain": [
       "Blue        639\n",
       "Silver       43\n",
       "Gold          7\n",
       "Platinum      2\n",
       "Name: Card_Category, dtype: int64"
      ]
     },
     "execution_count": 145,
     "metadata": {},
     "output_type": "execute_result"
    }
   ],
   "source": [
    "uneducatedMen.Card_Category.value_counts()"
   ]
  },
  {
   "cell_type": "raw",
   "id": "thick-canvas",
   "metadata": {},
   "source": [
    "Вывод: у образованных людей как правило выще уровень дохода"
   ]
  },
  {
   "cell_type": "raw",
   "id": "reduced-portfolio",
   "metadata": {},
   "source": [
    "Гистограмма уровня кредитного лимита"
   ]
  },
  {
   "cell_type": "code",
   "execution_count": 105,
   "id": "afraid-biography",
   "metadata": {},
   "outputs": [
    {
     "data": {
      "image/png": "[encoded data removed]",
      "text/plain": [
       "<Figure size 1080x504 with 1 Axes>"
      ]
     },
     "metadata": {
      "needs_background": "light"
     },
     "output_type": "display_data"
    }
   ],
   "source": [
    "plt.figure(figsize=(15,7))\n",
    "plt.title('The dependence of the credit limit on age')\n",
    "data['Credit_Limit'].hist()\n",
    "plt.xlabel('Credit_Limit')\n",
    "plt.ylabel('Number of Customer')\n",
    "plt.show()"
   ]
  },
  {
   "cell_type": "code",
   "execution_count": 111,
   "id": "administrative-circus",
   "metadata": {},
   "outputs": [
    {
     "name": "stdout",
     "output_type": "stream",
     "text": [
      "46.30940023068051\n",
      "46.36195549984331\n"
     ]
    }
   ],
   "source": [
    "meanCL = data['Credit_Limit'].mean()\n",
    "customersFewCL = data[data['Credit_Limit'] < meanCL]\n",
    "customersManyCL = data[data['Credit_Limit'] >= meanCL]\n",
    "print(customersFewCL['Customer_Age'].mean())\n",
    "print(customersManyCL['Customer_Age'].mean())"
   ]
  },
  {
   "cell_type": "raw",
   "id": "finite-character",
   "metadata": {},
   "source": [
    "Вывод: от возраста не зависит кредитный лимит, связано это с огромным количеством низких пределов по кредиту."
   ]
  },
  {
   "cell_type": "raw",
   "id": "accessible-dryer",
   "metadata": {},
   "source": [
    "Добавление нового столбца: возрастная классификация"
   ]
  },
  {
   "cell_type": "code",
   "execution_count": 115,
   "id": "behind-rebecca",
   "metadata": {},
   "outputs": [
    {
     "name": "stdout",
     "output_type": "stream",
     "text": [
      "Medium    6481\n",
      "Young     2036\n",
      "Old       1610\n",
      "dtype: int64\n"
     ]
    }
   ],
   "source": [
    "def age_classify(row):\n",
    "    if row.Customer_Age>=55:\n",
    "        return 'Old'\n",
    "    elif row.Customer_Age>=40:\n",
    "        return 'Medium'\n",
    "    else:\n",
    "        return 'Young'\n",
    "    \n",
    "age_category = data.apply(age_classify,axis='columns')\n",
    "print(age_category.value_counts())"
   ]
  },
  {
   "cell_type": "code",
   "execution_count": 118,
   "id": "analyzed-richards",
   "metadata": {},
   "outputs": [
    {
     "name": "stdout",
     "output_type": "stream",
     "text": [
      "<class 'pandas.core.frame.DataFrame'>\n",
      "RangeIndex: 10127 entries, 0 to 10126\n",
      "Data columns (total 22 columns):\n",
      "CLIENTNUM                   10127 non-null int64\n",
      "Attrition_Flag              10127 non-null object\n",
      "Customer_Age                10127 non-null int64\n",
      "Gender                      10127 non-null object\n",
      "Dependent_count             10127 non-null int64\n",
      "Education_Level             10127 non-null object\n",
      "Marital_Status              10127 non-null object\n",
      "Income_Category             10127 non-null object\n",
      "Card_Category               10127 non-null object\n",
      "Months_on_book              10127 non-null int64\n",
      "Total_Relationship_Count    10127 non-null int64\n",
      "Months_Inactive_12_mon      10127 non-null int64\n",
      "Contacts_Count_12_mon       10127 non-null int64\n",
      "Credit_Limit                10127 non-null float64\n",
      "Total_Revolving_Bal         10127 non-null int64\n",
      "Avg_Open_To_Buy             10127 non-null float64\n",
      "Total_Amt_Chng_Q4_Q1        10127 non-null float64\n",
      "Total_Trans_Amt             10127 non-null int64\n",
      "Total_Trans_Ct              10127 non-null int64\n",
      "Total_Ct_Chng_Q4_Q1         10127 non-null float64\n",
      "Avg_Utilization_Ratio       10127 non-null float64\n",
      "Age_Category                10127 non-null object\n",
      "dtypes: float64(5), int64(10), object(7)\n",
      "memory usage: 1.4+ MB\n"
     ]
    }
   ],
   "source": [
    "data['Age_Category'] = age_category\n",
    "data.info()"
   ]
  },
  {
   "cell_type": "code",
   "execution_count": 120,
   "id": "featured-camcorder",
   "metadata": {},
   "outputs": [
    {
     "data": {
      "text/plain": [
       "<AxesSubplot:xlabel='Customer_Age'>"
      ]
     },
     "execution_count": 120,
     "metadata": {},
     "output_type": "execute_result"
    },
    {
     "data": {
      "image/png": "[encoded data removed]",
      "text/plain": [
       "<Figure size 432x288 with 1 Axes>"
      ]
     },
     "metadata": {
      "needs_background": "light"
     },
     "output_type": "display_data"
    }
   ],
   "source": [
    "sns.distplot(data['Customer_Age'], kde=False)"
   ]
  },
  {
   "cell_type": "code",
   "execution_count": 124,
   "id": "former-hudson",
   "metadata": {},
   "outputs": [
    {
     "name": "stderr",
     "output_type": "stream",
     "text": [
      "c:\\users\\killm\\appdata\\local\\programs\\python\\python38-32\\lib\\site-packages\\seaborn\\distributions.py:2557: FutureWarning: `distplot` is a deprecated function and will be removed in a future version. Please adapt your code to use either `displot` (a figure-level function with similar flexibility) or `histplot` (an axes-level function for histograms).\n",
      "  warnings.warn(msg, FutureWarning)\n"
     ]
    },
    {
     "data": {
      "text/plain": [
       "<AxesSubplot:xlabel='Customer_Age', ylabel='Density'>"
      ]
     },
     "execution_count": 124,
     "metadata": {},
     "output_type": "execute_result"
    },
    {
     "data": {
      "image/png": "[encoded data removed]",
      "text/plain": [
       "<Figure size 432x288 with 1 Axes>"
      ]
     },
     "metadata": {
      "needs_background": "light"
     },
     "output_type": "display_data"
    }
   ],
   "source": [
    "sns.distplot(data['Customer_Age'], kde=True)"
   ]
  },
  {
   "cell_type": "raw",
   "id": "premium-survivor",
   "metadata": {},
   "source": [
    "Гистограмма зависимости кредитного лемита от пола"
   ]
  },
  {
   "cell_type": "code",
   "execution_count": 130,
   "id": "lined-promotion",
   "metadata": {},
   "outputs": [
    {
     "name": "stderr",
     "output_type": "stream",
     "text": [
      "c:\\users\\killm\\appdata\\local\\programs\\python\\python38-32\\lib\\site-packages\\seaborn\\distributions.py:2557: FutureWarning: `distplot` is a deprecated function and will be removed in a future version. Please adapt your code to use either `displot` (a figure-level function with similar flexibility) or `histplot` (an axes-level function for histograms).\n",
      "  warnings.warn(msg, FutureWarning)\n",
      "c:\\users\\killm\\appdata\\local\\programs\\python\\python38-32\\lib\\site-packages\\seaborn\\distributions.py:2557: FutureWarning: `distplot` is a deprecated function and will be removed in a future version. Please adapt your code to use either `displot` (a figure-level function with similar flexibility) or `histplot` (an axes-level function for histograms).\n",
      "  warnings.warn(msg, FutureWarning)\n"
     ]
    },
    {
     "data": {
      "image/png": "[encoded data removed]",
      "text/plain": [
       "<Figure size 720x360 with 1 Axes>"
      ]
     },
     "metadata": {
      "needs_background": "light"
     },
     "output_type": "display_data"
    }
   ],
   "source": [
    "plt.figure(figsize=(10,5))\n",
    "sns.distplot(data['Credit_Limit'][data['Gender'] == \"M\"], kde=True)\n",
    "sns.distplot(data['Credit_Limit'][data['Gender'] == \"F\"], kde=True)\n",
    "plt.ylabel(\"density\")\n",
    "plt.xlabel(\"Credit_Limit\")\n",
    "plt.legend(('Female Avg = '+str(np.round(np.mean(data[\"Credit_Limit\"][data[\"Gender\"]==\"F\"]),2)),\n",
    "            'Male Avg = '+str(np.round(np.mean(data[\"Credit_Limit\"][data[\"Gender\"]==\"M\"]),2))))\n",
    "plt.show()"
   ]
  },
  {
   "cell_type": "raw",
   "id": "legendary-wales",
   "metadata": {},
   "source": [
    "Вывод: у женщин часто минимальный кредитный лимит, также он в среднем ниже чем у мужчин."
   ]
  },
  {
   "cell_type": "raw",
   "id": "stainless-september",
   "metadata": {},
   "source": [
    "Зависимость кредитного лимита от возрастной категории"
   ]
  },
  {
   "cell_type": "code",
   "execution_count": 133,
   "id": "representative-forestry",
   "metadata": {},
   "outputs": [
    {
     "data": {
      "image/png": "[encoded data removed]",
      "text/plain": [
       "<Figure size 432x288 with 1 Axes>"
      ]
     },
     "metadata": {
      "needs_background": "light"
     },
     "output_type": "display_data"
    }
   ],
   "source": [
    "plt.title(\"Age category vs credit limit\")\n",
    "ax = sns.boxplot(x=\"Age_Category\", y=\"Credit_Limit\", data=data)\n",
    "plt.show()"
   ]
  },
  {
   "cell_type": "raw",
   "id": "continued-consensus",
   "metadata": {},
   "source": [
    "Зависимость дохода от возраста"
   ]
  },
  {
   "cell_type": "code",
   "execution_count": 136,
   "id": "collective-classics",
   "metadata": {},
   "outputs": [
    {
     "data": {
      "image/png": "[encoded data removed]",
      "text/plain": [
       "<Figure size 432x288 with 1 Axes>"
      ]
     },
     "metadata": {
      "needs_background": "light"
     },
     "output_type": "display_data"
    }
   ],
   "source": [
    "plt.title(\"Income category vs age\")\n",
    "ax = sns.boxplot(x=\"Income_Category\", y=\"Customer_Age\", data=data)\n",
    "plt.show()"
   ]
  },
  {
   "cell_type": "raw",
   "id": "straight-pontiac",
   "metadata": {},
   "source": [
    "Совместное распределение по возросту и количеству месяцев использования карты"
   ]
  },
  {
   "cell_type": "code",
   "execution_count": 142,
   "id": "enormous-church",
   "metadata": {},
   "outputs": [
    {
     "data": {
      "text/plain": [
       "<seaborn.axisgrid.JointGrid at 0x15bdb08>"
      ]
     },
     "execution_count": 142,
     "metadata": {},
     "output_type": "execute_result"
    },
    {
     "data": {
      "image/png": "[encoded data removed]",
      "text/plain": [
       "<Figure size 432x432 with 3 Axes>"
      ]
     },
     "metadata": {
      "needs_background": "light"
     },
     "output_type": "display_data"
    }
   ],
   "source": [
    "sns.jointplot(x=data['Customer_Age'], y=data['Months_on_book'], kind=\"kde\")"
   ]
  }
 ],
 "metadata": {
  "kernelspec": {
   "display_name": "Python 3",
   "language": "python",
   "name": "python3"
  },
  "language_info": {
   "codemirror_mode": {
    "name": "ipython",
    "version": 3
   },
   "file_extension": ".py",
   "mimetype": "text/x-python",
   "name": "python",
   "nbconvert_exporter": "python",
   "pygments_lexer": "ipython3",
   "version": "3.8.8"
  }
 },
 "nbformat": 4,
 "nbformat_minor": 5
}
