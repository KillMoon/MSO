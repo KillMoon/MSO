{
 "cells": [
  {
   "cell_type": "code",
   "execution_count": 1,
   "id": "wicked-stock",
   "metadata": {},
   "outputs": [],
   "source": [
    "import numpy as np\n",
    "from scipy import stats as st\n",
    "import pandas as pd\n",
    "import matplotlib.pyplot as plt\n",
    "import seaborn as sns\n",
    "from scipy.stats import sigmaclip"
   ]
  },
  {
   "cell_type": "code",
   "execution_count": 2,
   "id": "acting-estate",
   "metadata": {},
   "outputs": [],
   "source": [
    "dataframe = pd.read_csv('melb_data.csv')"
   ]
  },
  {
   "cell_type": "markdown",
   "id": "hidden-communication",
   "metadata": {},
   "source": [
    "# Был взят датасет цены недвижимости в г. Мельбрун"
   ]
  },
  {
   "cell_type": "code",
   "execution_count": 3,
   "id": "immune-personality",
   "metadata": {},
   "outputs": [
    {
     "data": {
      "text/html": [
       "<div>\n",
       "<style scoped>\n",
       "    .dataframe tbody tr th:only-of-type {\n",
       "        vertical-align: middle;\n",
       "    }\n",
       "\n",
       "    .dataframe tbody tr th {\n",
       "        vertical-align: top;\n",
       "    }\n",
       "\n",
       "    .dataframe thead th {\n",
       "        text-align: right;\n",
       "    }\n",
       "</style>\n",
       "<table border=\"1\" class=\"dataframe\">\n",
       "  <thead>\n",
       "    <tr style=\"text-align: right;\">\n",
       "      <th></th>\n",
       "      <th>Suburb</th>\n",
       "      <th>Address</th>\n",
       "      <th>Rooms</th>\n",
       "      <th>Type</th>\n",
       "      <th>Price</th>\n",
       "      <th>Method</th>\n",
       "      <th>SellerG</th>\n",
       "      <th>Date</th>\n",
       "      <th>Distance</th>\n",
       "      <th>Postcode</th>\n",
       "      <th>...</th>\n",
       "      <th>Bathroom</th>\n",
       "      <th>Car</th>\n",
       "      <th>Landsize</th>\n",
       "      <th>BuildingArea</th>\n",
       "      <th>YearBuilt</th>\n",
       "      <th>CouncilArea</th>\n",
       "      <th>Lattitude</th>\n",
       "      <th>Longtitude</th>\n",
       "      <th>Regionname</th>\n",
       "      <th>Propertycount</th>\n",
       "    </tr>\n",
       "  </thead>\n",
       "  <tbody>\n",
       "    <tr>\n",
       "      <th>0</th>\n",
       "      <td>Abbotsford</td>\n",
       "      <td>85 Turner St</td>\n",
       "      <td>2</td>\n",
       "      <td>h</td>\n",
       "      <td>1480000.0</td>\n",
       "      <td>S</td>\n",
       "      <td>Biggin</td>\n",
       "      <td>3/12/2016</td>\n",
       "      <td>2.5</td>\n",
       "      <td>3067.0</td>\n",
       "      <td>...</td>\n",
       "      <td>1.0</td>\n",
       "      <td>1.0</td>\n",
       "      <td>202.0</td>\n",
       "      <td>NaN</td>\n",
       "      <td>NaN</td>\n",
       "      <td>Yarra</td>\n",
       "      <td>-37.7996</td>\n",
       "      <td>144.9984</td>\n",
       "      <td>Northern Metropolitan</td>\n",
       "      <td>4019.0</td>\n",
       "    </tr>\n",
       "    <tr>\n",
       "      <th>1</th>\n",
       "      <td>Abbotsford</td>\n",
       "      <td>25 Bloomburg St</td>\n",
       "      <td>2</td>\n",
       "      <td>h</td>\n",
       "      <td>1035000.0</td>\n",
       "      <td>S</td>\n",
       "      <td>Biggin</td>\n",
       "      <td>4/02/2016</td>\n",
       "      <td>2.5</td>\n",
       "      <td>3067.0</td>\n",
       "      <td>...</td>\n",
       "      <td>1.0</td>\n",
       "      <td>0.0</td>\n",
       "      <td>156.0</td>\n",
       "      <td>79.0</td>\n",
       "      <td>1900.0</td>\n",
       "      <td>Yarra</td>\n",
       "      <td>-37.8079</td>\n",
       "      <td>144.9934</td>\n",
       "      <td>Northern Metropolitan</td>\n",
       "      <td>4019.0</td>\n",
       "    </tr>\n",
       "    <tr>\n",
       "      <th>2</th>\n",
       "      <td>Abbotsford</td>\n",
       "      <td>5 Charles St</td>\n",
       "      <td>3</td>\n",
       "      <td>h</td>\n",
       "      <td>1465000.0</td>\n",
       "      <td>SP</td>\n",
       "      <td>Biggin</td>\n",
       "      <td>4/03/2017</td>\n",
       "      <td>2.5</td>\n",
       "      <td>3067.0</td>\n",
       "      <td>...</td>\n",
       "      <td>2.0</td>\n",
       "      <td>0.0</td>\n",
       "      <td>134.0</td>\n",
       "      <td>150.0</td>\n",
       "      <td>1900.0</td>\n",
       "      <td>Yarra</td>\n",
       "      <td>-37.8093</td>\n",
       "      <td>144.9944</td>\n",
       "      <td>Northern Metropolitan</td>\n",
       "      <td>4019.0</td>\n",
       "    </tr>\n",
       "    <tr>\n",
       "      <th>3</th>\n",
       "      <td>Abbotsford</td>\n",
       "      <td>40 Federation La</td>\n",
       "      <td>3</td>\n",
       "      <td>h</td>\n",
       "      <td>850000.0</td>\n",
       "      <td>PI</td>\n",
       "      <td>Biggin</td>\n",
       "      <td>4/03/2017</td>\n",
       "      <td>2.5</td>\n",
       "      <td>3067.0</td>\n",
       "      <td>...</td>\n",
       "      <td>2.0</td>\n",
       "      <td>1.0</td>\n",
       "      <td>94.0</td>\n",
       "      <td>NaN</td>\n",
       "      <td>NaN</td>\n",
       "      <td>Yarra</td>\n",
       "      <td>-37.7969</td>\n",
       "      <td>144.9969</td>\n",
       "      <td>Northern Metropolitan</td>\n",
       "      <td>4019.0</td>\n",
       "    </tr>\n",
       "    <tr>\n",
       "      <th>4</th>\n",
       "      <td>Abbotsford</td>\n",
       "      <td>55a Park St</td>\n",
       "      <td>4</td>\n",
       "      <td>h</td>\n",
       "      <td>1600000.0</td>\n",
       "      <td>VB</td>\n",
       "      <td>Nelson</td>\n",
       "      <td>4/06/2016</td>\n",
       "      <td>2.5</td>\n",
       "      <td>3067.0</td>\n",
       "      <td>...</td>\n",
       "      <td>1.0</td>\n",
       "      <td>2.0</td>\n",
       "      <td>120.0</td>\n",
       "      <td>142.0</td>\n",
       "      <td>2014.0</td>\n",
       "      <td>Yarra</td>\n",
       "      <td>-37.8072</td>\n",
       "      <td>144.9941</td>\n",
       "      <td>Northern Metropolitan</td>\n",
       "      <td>4019.0</td>\n",
       "    </tr>\n",
       "  </tbody>\n",
       "</table>\n",
       "<p>5 rows × 21 columns</p>\n",
       "</div>"
      ],
      "text/plain": [
       "       Suburb           Address  Rooms Type      Price Method SellerG  \\\n",
       "0  Abbotsford      85 Turner St      2    h  1480000.0      S  Biggin   \n",
       "1  Abbotsford   25 Bloomburg St      2    h  1035000.0      S  Biggin   \n",
       "2  Abbotsford      5 Charles St      3    h  1465000.0     SP  Biggin   \n",
       "3  Abbotsford  40 Federation La      3    h   850000.0     PI  Biggin   \n",
       "4  Abbotsford       55a Park St      4    h  1600000.0     VB  Nelson   \n",
       "\n",
       "        Date  Distance  Postcode  ...  Bathroom  Car  Landsize  BuildingArea  \\\n",
       "0  3/12/2016       2.5    3067.0  ...       1.0  1.0     202.0           NaN   \n",
       "1  4/02/2016       2.5    3067.0  ...       1.0  0.0     156.0          79.0   \n",
       "2  4/03/2017       2.5    3067.0  ...       2.0  0.0     134.0         150.0   \n",
       "3  4/03/2017       2.5    3067.0  ...       2.0  1.0      94.0           NaN   \n",
       "4  4/06/2016       2.5    3067.0  ...       1.0  2.0     120.0         142.0   \n",
       "\n",
       "   YearBuilt  CouncilArea Lattitude  Longtitude             Regionname  \\\n",
       "0        NaN        Yarra  -37.7996    144.9984  Northern Metropolitan   \n",
       "1     1900.0        Yarra  -37.8079    144.9934  Northern Metropolitan   \n",
       "2     1900.0        Yarra  -37.8093    144.9944  Northern Metropolitan   \n",
       "3        NaN        Yarra  -37.7969    144.9969  Northern Metropolitan   \n",
       "4     2014.0        Yarra  -37.8072    144.9941  Northern Metropolitan   \n",
       "\n",
       "  Propertycount  \n",
       "0        4019.0  \n",
       "1        4019.0  \n",
       "2        4019.0  \n",
       "3        4019.0  \n",
       "4        4019.0  \n",
       "\n",
       "[5 rows x 21 columns]"
      ]
     },
     "execution_count": 3,
     "metadata": {},
     "output_type": "execute_result"
    }
   ],
   "source": [
    "dataframe.head()"
   ]
  },
  {
   "cell_type": "markdown",
   "id": "designed-earth",
   "metadata": {},
   "source": [
    "Посмотрим график цены"
   ]
  },
  {
   "cell_type": "code",
   "execution_count": 4,
   "id": "connected-country",
   "metadata": {},
   "outputs": [
    {
     "data": {
      "text/plain": [
       "<seaborn.axisgrid.FacetGrid at 0x1b355d0af10>"
      ]
     },
     "execution_count": 4,
     "metadata": {},
     "output_type": "execute_result"
    },
    {
     "data": {
      "image/png": "[encoded data removed]",
      "text/plain": [
       "<Figure size 360x360 with 1 Axes>"
      ]
     },
     "metadata": {
      "needs_background": "light"
     },
     "output_type": "display_data"
    }
   ],
   "source": [
    "sns.displot((dataframe.Price), kde=True)"
   ]
  },
  {
   "cell_type": "markdown",
   "id": "canadian-settlement",
   "metadata": {},
   "source": [
    "Как видно распределение не очень близко к нормальному, поэтому используем sigmaclip для приведение к более нормальной форме"
   ]
  },
  {
   "cell_type": "code",
   "execution_count": 5,
   "id": "employed-marker",
   "metadata": {},
   "outputs": [
    {
     "data": {
      "text/plain": [
       "array([ 2,  3,  4,  1,  6,  5,  8,  7, 10], dtype=int64)"
      ]
     },
     "execution_count": 5,
     "metadata": {},
     "output_type": "execute_result"
    }
   ],
   "source": [
    "dataframe.Rooms.unique()"
   ]
  },
  {
   "cell_type": "markdown",
   "id": "phantom-johns",
   "metadata": {},
   "source": [
    "Анализ будет произведён по 2м критериям: количество комнат и количество санузлов"
   ]
  },
  {
   "cell_type": "code",
   "execution_count": 6,
   "id": "coupled-deadline",
   "metadata": {},
   "outputs": [],
   "source": [
    "s1 = pd.Series(sigmaclip(dataframe.Price[dataframe.Rooms == 1], 3.0, 3.0)[0]).iloc[:50]\n",
    "s2 = pd.Series(sigmaclip(dataframe.Price[dataframe.Rooms == 2], 3.0, 3.0)[0]).iloc[:50]\n",
    "s3 = pd.Series(sigmaclip(dataframe.Price[dataframe.Rooms == 3], 3.0, 3.0)[0]).iloc[:50]\n",
    "s4 = pd.Series(sigmaclip(dataframe.Price[dataframe.Rooms == 4], 3.0, 3.0)[0]).iloc[:50]\n",
    "s5 = pd.Series(sigmaclip(dataframe.Price[dataframe.Rooms == 5], 3.0, 3.0)[0]).iloc[:50]\n",
    "s6 = pd.Series(sigmaclip(dataframe.Price[dataframe.Rooms == 6], 3.0, 3.0)[0]).iloc[:50]\n",
    "df = pd.DataFrame(data = {'col1': s1.values, 'col2':s2.values, 'col3':s3.values, 'col4':s4.values, 'col5':s5.values, 'col6':s6.values})\n",
    "\n",
    "s1 = pd.Series(sigmaclip(dataframe.Price[dataframe.Bathroom == 1.0], 3.0, 3.0)[0]).iloc[:50]\n",
    "s2 = pd.Series(sigmaclip(dataframe.Price[dataframe.Bathroom == 2.0], 3.0, 3.0)[0]).iloc[:50]\n",
    "s3 = pd.Series(sigmaclip(dataframe.Price[dataframe.Bathroom == 3.0], 3.0, 3.0)[0]).iloc[:50]\n",
    "s4 = pd.Series(sigmaclip(dataframe.Price[dataframe.Bathroom == 4.0], 3.0, 3.0)[0]).iloc[:50]\n",
    "df1 = pd.DataFrame(data = {'col1': s1.values, 'col2':s2.values, 'col3':s3.values, 'col4':s4.values})\n"
   ]
  },
  {
   "cell_type": "markdown",
   "id": "medium-bookmark",
   "metadata": {},
   "source": [
    "Проверим выборки на независимость с помощью критерия $\\chi^2$ Пирсона."
   ]
  },
  {
   "cell_type": "code",
   "execution_count": 7,
   "id": "brilliant-forge",
   "metadata": {},
   "outputs": [
    {
     "name": "stdout",
     "output_type": "stream",
     "text": [
      "p-value: 0.0\n",
      "Нулевая гипотеза отвергается\n"
     ]
    }
   ],
   "source": [
    "_, p, _, _  = st.chi2_contingency(df.T, correction=False)\n",
    "print('p-value:', p)\n",
    "\n",
    "alpha = 0.05\n",
    "if p >= alpha:\n",
    "    print(f'Нулевая гипотеза принимается')\n",
    "else:\n",
    "    print(f'Нулевая гипотеза отвергается')"
   ]
  },
  {
   "cell_type": "markdown",
   "id": "controlling-hollow",
   "metadata": {},
   "source": [
    "Проверка на нормальность выборок по количеству санузлов"
   ]
  },
  {
   "cell_type": "code",
   "execution_count": 8,
   "id": "synthetic-ordering",
   "metadata": {},
   "outputs": [
    {
     "name": "stdout",
     "output_type": "stream",
     "text": [
      "0.02442847564816475\n",
      "Нулевая гипотеза принимается\n",
      "0.00691588968038559\n",
      "Нулевая гипотеза отвергается\n",
      "0.02477012760937214\n",
      "Нулевая гипотеза принимается\n",
      "0.8590674996376038\n",
      "Нулевая гипотеза принимается\n"
     ]
    }
   ],
   "source": [
    "for i in range(4):\n",
    "    col = 'col' + str(i + 1)\n",
    "    _, p = st.shapiro(df1[col])\n",
    "    print(p)\n",
    "    alpha = 0.01\n",
    "    if p >= alpha:\n",
    "        print(f'Нулевая гипотеза принимается')\n",
    "    else:\n",
    "        print(f'Нулевая гипотеза отвергается')"
   ]
  },
  {
   "cell_type": "markdown",
   "id": "focused-yukon",
   "metadata": {},
   "source": [
    "Проверка на нормальность выборок по количеству комнат"
   ]
  },
  {
   "cell_type": "code",
   "execution_count": 9,
   "id": "growing-velvet",
   "metadata": {},
   "outputs": [
    {
     "name": "stdout",
     "output_type": "stream",
     "text": [
      "0.018657518550753593\n",
      "Нулевая гипотеза принимается\n",
      "0.0010572525206953287\n",
      "Нулевая гипотеза отвергается\n",
      "0.00019092716684099287\n",
      "Нулевая гипотеза отвергается\n",
      "0.003646142315119505\n",
      "Нулевая гипотеза отвергается\n",
      "0.06062760949134827\n",
      "Нулевая гипотеза принимается\n",
      "0.3931001126766205\n",
      "Нулевая гипотеза принимается\n"
     ]
    }
   ],
   "source": [
    "for i in range(6):\n",
    "    col = 'col' + str(i + 1)\n",
    "    _, p = st.shapiro(df[col])\n",
    "    print(p)\n",
    "    alpha = 0.01\n",
    "    if p >= alpha:\n",
    "        print(f'Нулевая гипотеза принимается')\n",
    "    else:\n",
    "        print(f'Нулевая гипотеза отвергается')"
   ]
  },
  {
   "cell_type": "code",
   "execution_count": 10,
   "id": "worth-nutrition",
   "metadata": {},
   "outputs": [
    {
     "data": {
      "text/plain": [
       "<seaborn.axisgrid.FacetGrid at 0x1b355e344c0>"
      ]
     },
     "execution_count": 10,
     "metadata": {},
     "output_type": "execute_result"
    },
    {
     "data": {
      "image/png": "[encoded data removed]",
      "text/plain": [
       "<Figure size 360x360 with 1 Axes>"
      ]
     },
     "metadata": {
      "needs_background": "light"
     },
     "output_type": "display_data"
    }
   ],
   "source": [
    "sns.displot(df1.col2)"
   ]
  },
  {
   "cell_type": "markdown",
   "id": "israeli-reach",
   "metadata": {},
   "source": [
    "Построим график коробка с усами для датасета по параметрам цена/количество комнат"
   ]
  },
  {
   "cell_type": "code",
   "execution_count": 11,
   "id": "guilty-indonesia",
   "metadata": {},
   "outputs": [
    {
     "data": {
      "text/plain": [
       "<AxesSubplot:xlabel='Rooms', ylabel='Price'>"
      ]
     },
     "execution_count": 11,
     "metadata": {},
     "output_type": "execute_result"
    },
    {
     "data": {
      "image/png": "[encoded data removed]",
      "text/plain": [
       "<Figure size 432x288 with 1 Axes>"
      ]
     },
     "metadata": {
      "needs_background": "light"
     },
     "output_type": "display_data"
    }
   ],
   "source": [
    "sns.boxplot(x=\"Rooms\", y=\"Price\", data=dataframe)"
   ]
  },
  {
   "cell_type": "markdown",
   "id": "sunset-shooting",
   "metadata": {},
   "source": [
    "Построим график коробка с усами для датасета по параметрам цена/количество санузлов"
   ]
  },
  {
   "cell_type": "code",
   "execution_count": 12,
   "id": "growing-package",
   "metadata": {},
   "outputs": [
    {
     "data": {
      "text/plain": [
       "<AxesSubplot:>"
      ]
     },
     "execution_count": 12,
     "metadata": {},
     "output_type": "execute_result"
    },
    {
     "data": {
      "image/png": "[encoded data removed]",
      "text/plain": [
       "<Figure size 432x288 with 1 Axes>"
      ]
     },
     "metadata": {
      "needs_background": "light"
     },
     "output_type": "display_data"
    }
   ],
   "source": [
    "sns.boxplot(data=df1)"
   ]
  },
  {
   "cell_type": "markdown",
   "id": "nuclear-upper",
   "metadata": {},
   "source": [
    "Проверка гипотезы о групповом равенстве дисперсий с помошью критерия левена для выборок цена/кол-во комнат"
   ]
  },
  {
   "cell_type": "code",
   "execution_count": 13,
   "id": "received-hacker",
   "metadata": {},
   "outputs": [
    {
     "name": "stdout",
     "output_type": "stream",
     "text": [
      "p-value: 0.0000\n",
      "Нулевая гипотеза отвергается\n"
     ]
    }
   ],
   "source": [
    "_, p = st.levene(df['col1'], df['col2'], df['col3'], df['col4'], df['col5'], df['col6'])\n",
    "print(f'p-value: {p:.4f}')\n",
    "\n",
    "alpha = 0.05\n",
    "if p >= alpha:\n",
    "    print(f'Нулевая гипотеза принимается')\n",
    "else:\n",
    "    print(f'Нулевая гипотеза отвергается')"
   ]
  },
  {
   "cell_type": "markdown",
   "id": "dramatic-lecture",
   "metadata": {},
   "source": [
    "Проведём однофакторный дисперсионный анализ на равенствно мат ожиданий выборок цена/кол-во комнат"
   ]
  },
  {
   "cell_type": "code",
   "execution_count": 14,
   "id": "direct-atlanta",
   "metadata": {},
   "outputs": [
    {
     "name": "stdout",
     "output_type": "stream",
     "text": [
      "p-value: 0.0000\n",
      "Нулевая гипотеза отвергается\n"
     ]
    }
   ],
   "source": [
    "_, p = st.f_oneway(df['col1'], df['col2'], df['col3'], df['col4'], df['col5'], df['col6'])\n",
    "print(f'p-value: {p:.4f}')\n",
    "\n",
    "alpha = 0.05\n",
    "\n",
    "if p >= alpha:\n",
    "    print(f'Нулевая гипотеза принимается')\n",
    "else:\n",
    "    print(f'Нулевая гипотеза отвергается')"
   ]
  },
  {
   "cell_type": "raw",
   "id": "attended-trash",
   "metadata": {},
   "source": [
    "Как видно гипотеза отвергается, впринципи это можно было увидеть и на графиках"
   ]
  },
  {
   "cell_type": "markdown",
   "id": "selected-majority",
   "metadata": {},
   "source": [
    "Выясним как группы различаются между собой\n",
    "\n",
    "Воспользуемся критерием Тьюки"
   ]
  },
  {
   "cell_type": "code",
   "execution_count": 15,
   "id": "primary-lingerie",
   "metadata": {},
   "outputs": [
    {
     "data": {
      "text/html": [
       "<div>\n",
       "<style scoped>\n",
       "    .dataframe tbody tr th:only-of-type {\n",
       "        vertical-align: middle;\n",
       "    }\n",
       "\n",
       "    .dataframe tbody tr th {\n",
       "        vertical-align: top;\n",
       "    }\n",
       "\n",
       "    .dataframe thead th {\n",
       "        text-align: right;\n",
       "    }\n",
       "</style>\n",
       "<table border=\"1\" class=\"dataframe\">\n",
       "  <thead>\n",
       "    <tr style=\"text-align: right;\">\n",
       "      <th></th>\n",
       "      <th>id</th>\n",
       "      <th>group</th>\n",
       "      <th>result</th>\n",
       "    </tr>\n",
       "  </thead>\n",
       "  <tbody>\n",
       "    <tr>\n",
       "      <th>0</th>\n",
       "      <td>0</td>\n",
       "      <td>col1</td>\n",
       "      <td>1480000.0</td>\n",
       "    </tr>\n",
       "    <tr>\n",
       "      <th>1</th>\n",
       "      <td>0</td>\n",
       "      <td>col2</td>\n",
       "      <td>1465000.0</td>\n",
       "    </tr>\n",
       "    <tr>\n",
       "      <th>2</th>\n",
       "      <td>0</td>\n",
       "      <td>col3</td>\n",
       "      <td>1447500.0</td>\n",
       "    </tr>\n",
       "    <tr>\n",
       "      <th>3</th>\n",
       "      <td>0</td>\n",
       "      <td>col4</td>\n",
       "      <td>2840000.0</td>\n",
       "    </tr>\n",
       "    <tr>\n",
       "      <th>4</th>\n",
       "      <td>1</td>\n",
       "      <td>col1</td>\n",
       "      <td>1035000.0</td>\n",
       "    </tr>\n",
       "    <tr>\n",
       "      <th>...</th>\n",
       "      <td>...</td>\n",
       "      <td>...</td>\n",
       "      <td>...</td>\n",
       "    </tr>\n",
       "    <tr>\n",
       "      <th>195</th>\n",
       "      <td>48</td>\n",
       "      <td>col4</td>\n",
       "      <td>2450000.0</td>\n",
       "    </tr>\n",
       "    <tr>\n",
       "      <th>196</th>\n",
       "      <td>49</td>\n",
       "      <td>col1</td>\n",
       "      <td>1550000.0</td>\n",
       "    </tr>\n",
       "    <tr>\n",
       "      <th>197</th>\n",
       "      <td>49</td>\n",
       "      <td>col2</td>\n",
       "      <td>520000.0</td>\n",
       "    </tr>\n",
       "    <tr>\n",
       "      <th>198</th>\n",
       "      <td>49</td>\n",
       "      <td>col3</td>\n",
       "      <td>1750000.0</td>\n",
       "    </tr>\n",
       "    <tr>\n",
       "      <th>199</th>\n",
       "      <td>49</td>\n",
       "      <td>col4</td>\n",
       "      <td>1150000.0</td>\n",
       "    </tr>\n",
       "  </tbody>\n",
       "</table>\n",
       "<p>200 rows × 3 columns</p>\n",
       "</div>"
      ],
      "text/plain": [
       "     id group     result\n",
       "0     0  col1  1480000.0\n",
       "1     0  col2  1465000.0\n",
       "2     0  col3  1447500.0\n",
       "3     0  col4  2840000.0\n",
       "4     1  col1  1035000.0\n",
       "..   ..   ...        ...\n",
       "195  48  col4  2450000.0\n",
       "196  49  col1  1550000.0\n",
       "197  49  col2   520000.0\n",
       "198  49  col3  1750000.0\n",
       "199  49  col4  1150000.0\n",
       "\n",
       "[200 rows x 3 columns]"
      ]
     },
     "execution_count": 15,
     "metadata": {},
     "output_type": "execute_result"
    }
   ],
   "source": [
    "stacked_data1 = df1.stack().reset_index()\n",
    "stacked_data1 = stacked_data1.rename(columns={'level_0': 'id',\n",
    "                                            'level_1': 'group',\n",
    "                                            0:'result'})\n",
    "stacked_data1"
   ]
  },
  {
   "cell_type": "code",
   "execution_count": 16,
   "id": "composite-bicycle",
   "metadata": {},
   "outputs": [
    {
     "data": {
      "text/html": [
       "<div>\n",
       "<style scoped>\n",
       "    .dataframe tbody tr th:only-of-type {\n",
       "        vertical-align: middle;\n",
       "    }\n",
       "\n",
       "    .dataframe tbody tr th {\n",
       "        vertical-align: top;\n",
       "    }\n",
       "\n",
       "    .dataframe thead th {\n",
       "        text-align: right;\n",
       "    }\n",
       "</style>\n",
       "<table border=\"1\" class=\"dataframe\">\n",
       "  <thead>\n",
       "    <tr style=\"text-align: right;\">\n",
       "      <th></th>\n",
       "      <th>id</th>\n",
       "      <th>group</th>\n",
       "      <th>result</th>\n",
       "    </tr>\n",
       "  </thead>\n",
       "  <tbody>\n",
       "    <tr>\n",
       "      <th>0</th>\n",
       "      <td>0</td>\n",
       "      <td>col1</td>\n",
       "      <td>300000.0</td>\n",
       "    </tr>\n",
       "    <tr>\n",
       "      <th>1</th>\n",
       "      <td>0</td>\n",
       "      <td>col2</td>\n",
       "      <td>1480000.0</td>\n",
       "    </tr>\n",
       "    <tr>\n",
       "      <th>2</th>\n",
       "      <td>0</td>\n",
       "      <td>col3</td>\n",
       "      <td>1465000.0</td>\n",
       "    </tr>\n",
       "    <tr>\n",
       "      <th>3</th>\n",
       "      <td>0</td>\n",
       "      <td>col4</td>\n",
       "      <td>1600000.0</td>\n",
       "    </tr>\n",
       "    <tr>\n",
       "      <th>4</th>\n",
       "      <td>0</td>\n",
       "      <td>col5</td>\n",
       "      <td>755000.0</td>\n",
       "    </tr>\n",
       "    <tr>\n",
       "      <th>...</th>\n",
       "      <td>...</td>\n",
       "      <td>...</td>\n",
       "      <td>...</td>\n",
       "    </tr>\n",
       "    <tr>\n",
       "      <th>295</th>\n",
       "      <td>49</td>\n",
       "      <td>col2</td>\n",
       "      <td>620000.0</td>\n",
       "    </tr>\n",
       "    <tr>\n",
       "      <th>296</th>\n",
       "      <td>49</td>\n",
       "      <td>col3</td>\n",
       "      <td>1532000.0</td>\n",
       "    </tr>\n",
       "    <tr>\n",
       "      <th>297</th>\n",
       "      <td>49</td>\n",
       "      <td>col4</td>\n",
       "      <td>1550000.0</td>\n",
       "    </tr>\n",
       "    <tr>\n",
       "      <th>298</th>\n",
       "      <td>49</td>\n",
       "      <td>col5</td>\n",
       "      <td>950000.0</td>\n",
       "    </tr>\n",
       "    <tr>\n",
       "      <th>299</th>\n",
       "      <td>49</td>\n",
       "      <td>col6</td>\n",
       "      <td>1234000.0</td>\n",
       "    </tr>\n",
       "  </tbody>\n",
       "</table>\n",
       "<p>300 rows × 3 columns</p>\n",
       "</div>"
      ],
      "text/plain": [
       "     id group     result\n",
       "0     0  col1   300000.0\n",
       "1     0  col2  1480000.0\n",
       "2     0  col3  1465000.0\n",
       "3     0  col4  1600000.0\n",
       "4     0  col5   755000.0\n",
       "..   ..   ...        ...\n",
       "295  49  col2   620000.0\n",
       "296  49  col3  1532000.0\n",
       "297  49  col4  1550000.0\n",
       "298  49  col5   950000.0\n",
       "299  49  col6  1234000.0\n",
       "\n",
       "[300 rows x 3 columns]"
      ]
     },
     "execution_count": 16,
     "metadata": {},
     "output_type": "execute_result"
    }
   ],
   "source": [
    "stacked_data = df.stack().reset_index()\n",
    "stacked_data = stacked_data.rename(columns={'level_0': 'id',\n",
    "                                            'level_1': 'group',\n",
    "                                            0:'result'})\n",
    "stacked_data"
   ]
  },
  {
   "cell_type": "code",
   "execution_count": null,
   "id": "linear-penetration",
   "metadata": {},
   "outputs": [],
   "source": []
  },
  {
   "cell_type": "code",
   "execution_count": 17,
   "id": "welcome-syndicate",
   "metadata": {},
   "outputs": [
    {
     "name": "stdout",
     "output_type": "stream",
     "text": [
      "      Multiple Comparison of Means - Tukey HSD, FWER=0.05      \n",
      "===============================================================\n",
      "group1 group2  meandiff p-adj     lower        upper     reject\n",
      "---------------------------------------------------------------\n",
      "  col1   col2  465250.0  0.001  148353.2195  782146.7805   True\n",
      "  col1   col3  771400.0  0.001  454503.2195 1088296.7805   True\n",
      "  col1   col4 1098340.0  0.001  781443.2195 1415236.7805   True\n",
      "  col1   col5 1902930.0  0.001 1586033.2195 2219826.7805   True\n",
      "  col1   col6 1263310.0  0.001  946413.2195 1580206.7805   True\n",
      "  col2   col3  306150.0 0.0652  -10746.7805  623046.7805  False\n",
      "  col2   col4  633090.0  0.001  316193.2195  949986.7805   True\n",
      "  col2   col5 1437680.0  0.001 1120783.2195 1754576.7805   True\n",
      "  col2   col6  798060.0  0.001  481163.2195 1114956.7805   True\n",
      "  col3   col4  326940.0 0.0388   10043.2195  643836.7805   True\n",
      "  col3   col5 1131530.0  0.001  814633.2195 1448426.7805   True\n",
      "  col3   col6  491910.0  0.001  175013.2195  808806.7805   True\n",
      "  col4   col5  804590.0  0.001  487693.2195 1121486.7805   True\n",
      "  col4   col6  164970.0 0.6469 -151926.7805  481866.7805  False\n",
      "  col5   col6 -639620.0  0.001 -956516.7805 -322723.2195   True\n",
      "---------------------------------------------------------------\n",
      "      Multiple Comparison of Means - Tukey HSD, FWER=0.05      \n",
      "===============================================================\n",
      "group1 group2  meandiff p-adj     lower        upper     reject\n",
      "---------------------------------------------------------------\n",
      "  col1   col2  467490.0 0.0125   74515.7686  860464.2314   True\n",
      "  col1   col3 1020210.0  0.001  627235.7686 1413184.2314   True\n",
      "  col1   col4 1851950.0  0.001 1458975.7686 2244924.2314   True\n",
      "  col2   col3  552720.0 0.0019  159745.7686  945694.2314   True\n",
      "  col2   col4 1384460.0  0.001  991485.7686 1777434.2314   True\n",
      "  col3   col4  831740.0  0.001  438765.7686 1224714.2314   True\n",
      "---------------------------------------------------------------\n"
     ]
    },
    {
     "name": "stderr",
     "output_type": "stream",
     "text": [
      "c:\\users\\killm\\appdata\\local\\programs\\python\\python38\\lib\\site-packages\\statsmodels\\sandbox\\stats\\multicomp.py:775: UserWarning: FixedFormatter should only be used together with FixedLocator\n",
      "  ax1.set_yticklabels(np.insert(self.groupsunique.astype(str), 0, ''))\n"
     ]
    },
    {
     "data": {
      "image/png": "[encoded data removed]",
      "text/plain": [
       "<Figure size 720x432 with 1 Axes>"
      ]
     },
     "metadata": {
      "needs_background": "light"
     },
     "output_type": "display_data"
    }
   ],
   "source": [
    "from statsmodels.stats.multicomp import pairwise_tukeyhsd, MultiComparison\n",
    "# Создадим экземпляр класса MultiComparison и передадим параметры из stacked_data\n",
    "MultiComp = MultiComparison(stacked_data['result'], stacked_data['group'])\n",
    "# вычислим значение критерия Тьюки с уровнем значимости 0.05\n",
    "alpha = 0.05\n",
    "results = MultiComp.tukeyhsd(alpha)\n",
    "\n",
    "# результат\n",
    "print(results.summary())\n",
    "# визуализируем\n",
    "fig = results.plot_simultaneous(xlabel='Значение зависимой переменной')\n",
    "fig.get_axes()[0].title.set_text('Средние значения')\n",
    "\n",
    "MultiComp1 = MultiComparison(stacked_data1['result'], stacked_data1['group'])\n",
    "# вычислим значение критерия Тьюки с уровнем значимости 0.05\n",
    "alpha = 0.05\n",
    "results = MultiComp1.tukeyhsd(alpha)\n",
    "\n",
    "# результат\n",
    "print(results.summary())"
   ]
  },
  {
   "cell_type": "markdown",
   "id": "better-reviewer",
   "metadata": {},
   "source": [
    "Как видно, только гипотезы о равенстве мат ожидания выборок цен 2-комнатных и 3-х | 4-х и 6и проходят"
   ]
  },
  {
   "cell_type": "markdown",
   "id": "daily-difference",
   "metadata": {},
   "source": [
    "Проведём двухфакторный дисперсионный анализ анализ по факторам: количество санузлов | количество комнат"
   ]
  },
  {
   "cell_type": "code",
   "execution_count": 18,
   "id": "hearing-ladder",
   "metadata": {},
   "outputs": [
    {
     "name": "stderr",
     "output_type": "stream",
     "text": [
      "c:\\users\\killm\\appdata\\local\\programs\\python\\python38\\lib\\site-packages\\statsmodels\\base\\model.py:1832: ValueWarning: covariance of constraints does not have full rank. The number of constraints is 5, but rank is 2\n",
      "  warnings.warn('covariance of constraints does not have full '\n",
      "c:\\users\\killm\\appdata\\local\\programs\\python\\python38\\lib\\site-packages\\statsmodels\\base\\model.py:1832: ValueWarning: covariance of constraints does not have full rank. The number of constraints is 2, but rank is 1\n",
      "  warnings.warn('covariance of constraints does not have full '\n",
      "c:\\users\\killm\\appdata\\local\\programs\\python\\python38\\lib\\site-packages\\statsmodels\\base\\model.py:1832: ValueWarning: covariance of constraints does not have full rank. The number of constraints is 10, but rank is 7\n",
      "  warnings.warn('covariance of constraints does not have full '\n"
     ]
    },
    {
     "data": {
      "text/html": [
       "<div>\n",
       "<style scoped>\n",
       "    .dataframe tbody tr th:only-of-type {\n",
       "        vertical-align: middle;\n",
       "    }\n",
       "\n",
       "    .dataframe tbody tr th {\n",
       "        vertical-align: top;\n",
       "    }\n",
       "\n",
       "    .dataframe thead th {\n",
       "        text-align: right;\n",
       "    }\n",
       "</style>\n",
       "<table border=\"1\" class=\"dataframe\">\n",
       "  <thead>\n",
       "    <tr style=\"text-align: right;\">\n",
       "      <th></th>\n",
       "      <th>sum_sq</th>\n",
       "      <th>df</th>\n",
       "      <th>F</th>\n",
       "      <th>PR(&gt;F)</th>\n",
       "    </tr>\n",
       "  </thead>\n",
       "  <tbody>\n",
       "    <tr>\n",
       "      <th>C(Rooms)</th>\n",
       "      <td>3.759429e+12</td>\n",
       "      <td>5.0</td>\n",
       "      <td>3.055933</td>\n",
       "      <td>0.052049</td>\n",
       "    </tr>\n",
       "    <tr>\n",
       "      <th>C(Bathroom)</th>\n",
       "      <td>1.184825e+11</td>\n",
       "      <td>2.0</td>\n",
       "      <td>0.240778</td>\n",
       "      <td>0.624853</td>\n",
       "    </tr>\n",
       "    <tr>\n",
       "      <th>C(Rooms):C(Bathroom)</th>\n",
       "      <td>4.620121e+12</td>\n",
       "      <td>10.0</td>\n",
       "      <td>1.877783</td>\n",
       "      <td>0.082543</td>\n",
       "    </tr>\n",
       "    <tr>\n",
       "      <th>Residual</th>\n",
       "      <td>2.189768e+13</td>\n",
       "      <td>89.0</td>\n",
       "      <td>NaN</td>\n",
       "      <td>NaN</td>\n",
       "    </tr>\n",
       "  </tbody>\n",
       "</table>\n",
       "</div>"
      ],
      "text/plain": [
       "                            sum_sq    df         F    PR(>F)\n",
       "C(Rooms)              3.759429e+12   5.0  3.055933  0.052049\n",
       "C(Bathroom)           1.184825e+11   2.0  0.240778  0.624853\n",
       "C(Rooms):C(Bathroom)  4.620121e+12  10.0  1.877783  0.082543\n",
       "Residual              2.189768e+13  89.0       NaN       NaN"
      ]
     },
     "execution_count": 18,
     "metadata": {},
     "output_type": "execute_result"
    }
   ],
   "source": [
    "import statsmodels.api as sm\n",
    "from statsmodels.formula.api import ols\n",
    "\n",
    "#perform two-way ANOVA\n",
    "model = ols('Price ~ C(Rooms) + C(Bathroom) + C(Rooms):C(Bathroom)', data=dataframe.iloc[:100]).fit()\n",
    "sm.stats.anova_lm(model, typ=2)"
   ]
  },
  {
   "cell_type": "markdown",
   "id": "sufficient-nerve",
   "metadata": {},
   "source": [
    "Как видно гипотеза о том что мат ожидания выборок по санузлам проходят хорошо, а выборок по санузлам на грани срыва. Зависимость же обоих этих факторов не сильно вляет на p-коэфициент."
   ]
  }
 ],
 "metadata": {
  "kernelspec": {
   "display_name": "Python 3",
   "language": "python",
   "name": "python3"
  },
  "language_info": {
   "codemirror_mode": {
    "name": "ipython",
    "version": 3
   },
   "file_extension": ".py",
   "mimetype": "text/x-python",
   "name": "python",
   "nbconvert_exporter": "python",
   "pygments_lexer": "ipython3",
   "version": "3.8.8"
  }
 },
 "nbformat": 4,
 "nbformat_minor": 5
}
